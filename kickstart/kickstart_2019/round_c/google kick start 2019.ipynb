{
 "cells": [
  {
   "cell_type": "code",
   "execution_count": 14,
   "metadata": {},
   "outputs": [
    {
     "name": "stdin",
     "output_type": "stream",
     "text": [
      " 1\n",
      " 3 1 6 1 3\n",
      " EEW\n"
     ]
    },
    {
     "name": "stdout",
     "output_type": "stream",
     "text": [
      "Case # 1 :  1 2\n"
     ]
    }
   ],
   "source": [
    "import numpy as np\n",
    "\n",
    "casenum=int(input())\n",
    "\n",
    "for i in range(casenum) :\n",
    "    infoo =input()\n",
    "    info=infoo.split(' ')\n",
    "    n = int(info[0])\n",
    "    r = int(info[1])\n",
    "    c = int(info[2])\n",
    "    s_r = int(info[3])\n",
    "    s_c = int(info[4])\n",
    "    \n",
    "    s=[s_r,s_c]\n",
    "    \n",
    "    ins=input()\n",
    "    ins_list=[]\n",
    "       \n",
    "    direc={\"N\" : [-1,0], \"S\" : [1,0], \"E\" : [0,1], \"W\" : [0,-1]}\n",
    "    \n",
    "    for j in range(n) :\n",
    "        a = ins[j]\n",
    "        ins_list.append(a)\n",
    "    \n",
    "    mapp=np.zeros((r,c)).tolist()\n",
    "    \n",
    "    x = s_r-1\n",
    "    y = s_c-1\n",
    "    \n",
    "    for j in range(n) :\n",
    "        \n",
    "        mapp[x][y] = 1\n",
    "        go_direc = direc[ins_list[j]]\n",
    "        \n",
    "#        print (go_direc)\n",
    "        \n",
    "        done=False \n",
    "        while done == False :\n",
    "            x += go_direc[0]\n",
    "            y += go_direc[1]\n",
    "#            print (j, x, y)\n",
    "            if mapp[x][y]==0 :\n",
    "                done = True\n",
    "               \n",
    "    print (\"Case #\",i+1,\": \",x+1,y+1) "
   ]
  },
  {
   "cell_type": "code",
   "execution_count": 1,
   "metadata": {},
   "outputs": [
    {
     "name": "stdin",
     "output_type": "stream",
     "text": [
      " 1\n",
      " 4 4 8\n"
     ]
    },
    {
     "name": "stdout",
     "output_type": "stream",
     "text": [
      "8\n"
     ]
    },
    {
     "name": "stdin",
     "output_type": "stream",
     "text": [
      " 20 10 20 10\n",
      " 10 4 5 20\n",
      " 20 5 4 10\n",
      " 10 20 10 20\n"
     ]
    },
    {
     "name": "stdout",
     "output_type": "stream",
     "text": [
      "[[10, 4, 5, 20]]\n",
      "( 0 0 ) ( 0 0 )\n",
      "[[20, 10, 20, 10]]\n",
      "( 0 0 ) ( 0 1 )\n",
      "[[20, 10, 20, 10]]\n",
      "( 0 0 ) ( 0 2 )\n",
      "[[20, 10, 20, 10]]\n",
      "( 0 0 ) ( 0 3 )\n",
      "[[20, 10, 20, 10]]\n",
      "( 0 0 ) ( 1 0 )\n",
      "[[20, 10, 20, 10]]\n",
      "( 0 0 ) ( 1 1 )\n",
      "[[20, 10, 20, 10], [10, 4, 5, 20]]\n",
      "( 0 0 ) ( 1 2 )\n",
      "[[20, 10, 20, 10], [10, 4, 5, 20]]\n",
      "( 0 0 ) ( 1 3 )\n",
      "[[20, 10, 20, 10], [10, 4, 5, 20]]\n",
      "( 0 0 ) ( 2 0 )\n",
      "[[20, 10, 20, 10]]\n",
      "( 0 0 ) ( 2 1 )\n",
      "[[20, 10, 20, 10], [10, 4, 5, 20]]\n",
      "( 0 0 ) ( 2 2 )\n",
      "[[20, 10, 20, 10], [10, 4, 5, 20], [20, 5, 4, 10]]\n",
      "( 0 0 ) ( 2 3 )\n",
      "[[20, 10, 20, 10], [10, 4, 5, 20], [20, 5, 4, 10]]\n",
      "( 0 0 ) ( 3 0 )\n",
      "[[20, 10, 20, 10]]\n",
      "( 0 0 ) ( 3 1 )\n",
      "[[20, 10, 20, 10], [10, 4, 5, 20]]\n",
      "( 0 0 ) ( 3 2 )\n",
      "[[20, 10, 20, 10], [10, 4, 5, 20], [20, 5, 4, 10]]\n",
      "( 0 0 ) ( 3 3 )\n",
      "[[20, 10, 20, 10], [10, 4, 5, 20], [20, 5, 4, 10], [10, 20, 10, 20]]\n",
      "( 0 1 ) ( 0 1 )\n",
      "[]\n"
     ]
    },
    {
     "ename": "ValueError",
     "evalue": "max() arg is an empty sequence",
     "output_type": "error",
     "traceback": [
      "\u001b[1;31m---------------------------------------------------------------------------\u001b[0m",
      "\u001b[1;31mValueError\u001b[0m                                Traceback (most recent call last)",
      "\u001b[1;32m<ipython-input-1-98fde2f5a1bd>\u001b[0m in \u001b[0;36m<module>\u001b[1;34m\u001b[0m\n\u001b[0;32m     36\u001b[0m                     \u001b[0mprint\u001b[0m \u001b[1;33m(\u001b[0m\u001b[0maa\u001b[0m\u001b[1;33m)\u001b[0m\u001b[1;33m\u001b[0m\u001b[1;33m\u001b[0m\u001b[0m\n\u001b[0;32m     37\u001b[0m                     \u001b[0mbb\u001b[0m\u001b[1;33m=\u001b[0m\u001b[1;33m[\u001b[0m\u001b[0my\u001b[0m \u001b[1;32mfor\u001b[0m \u001b[0mx\u001b[0m \u001b[1;32min\u001b[0m \u001b[0maa\u001b[0m \u001b[1;32mfor\u001b[0m \u001b[0my\u001b[0m \u001b[1;32min\u001b[0m \u001b[0mx\u001b[0m\u001b[1;33m]\u001b[0m\u001b[1;33m\u001b[0m\u001b[1;33m\u001b[0m\u001b[0m\n\u001b[1;32m---> 38\u001b[1;33m                     \u001b[1;32mif\u001b[0m \u001b[1;33m(\u001b[0m\u001b[0mmax\u001b[0m\u001b[1;33m(\u001b[0m\u001b[0mbb\u001b[0m\u001b[1;33m)\u001b[0m\u001b[1;33m-\u001b[0m\u001b[0mmin\u001b[0m\u001b[1;33m(\u001b[0m\u001b[0mbb\u001b[0m\u001b[1;33m)\u001b[0m\u001b[1;33m)\u001b[0m\u001b[1;33m<=\u001b[0m\u001b[0mk\u001b[0m \u001b[1;33m:\u001b[0m\u001b[1;33m\u001b[0m\u001b[1;33m\u001b[0m\u001b[0m\n\u001b[0m\u001b[0;32m     39\u001b[0m                         \u001b[0manum\u001b[0m\u001b[1;33m=\u001b[0m\u001b[1;33m(\u001b[0m\u001b[0mk_r\u001b[0m\u001b[1;33m-\u001b[0m\u001b[0mj_r\u001b[0m\u001b[1;33m+\u001b[0m\u001b[1;36m1\u001b[0m\u001b[1;33m)\u001b[0m\u001b[1;33m*\u001b[0m\u001b[1;33m(\u001b[0m\u001b[0mk_r\u001b[0m\u001b[1;33m-\u001b[0m\u001b[0mj_r\u001b[0m\u001b[1;33m+\u001b[0m\u001b[1;36m1\u001b[0m\u001b[1;33m)\u001b[0m\u001b[1;33m\u001b[0m\u001b[1;33m\u001b[0m\u001b[0m\n\u001b[0;32m     40\u001b[0m                         \u001b[1;32mif\u001b[0m \u001b[0manum\u001b[0m \u001b[1;33m>=\u001b[0m \u001b[0mnum\u001b[0m \u001b[1;33m:\u001b[0m\u001b[1;33m\u001b[0m\u001b[1;33m\u001b[0m\u001b[0m\n",
      "\u001b[1;31mValueError\u001b[0m: max() arg is an empty sequence"
     ]
    }
   ],
   "source": [
    "import numpy as np\n",
    "\n",
    "casenum=int(input())\n",
    "\n",
    "for i in range(casenum) :\n",
    "    infoo =input()\n",
    "    info=infoo.split(' ')\n",
    "    r = int(info[0])\n",
    "    c = int(info[1])\n",
    "    k = int(info[2])\n",
    "    \n",
    "    print(k)\n",
    "    \n",
    "    v=[]\n",
    "    for j_r in range(r) :\n",
    "        a = input()\n",
    "        b = a.split(\" \")\n",
    "        v.append(b)\n",
    "        \n",
    "    v_f=v\n",
    "    for j_r in range(r) :\n",
    "        for j_c in range(c) :\n",
    "            v_f [j_r][j_c]=int(v[j_r][j_c])\n",
    "            \n",
    "    num = 1\n",
    "\n",
    "    \n",
    "    print (v_f [0:2][1:3])\n",
    "    \n",
    "    for j_r in range(r) :\n",
    "        for j_c in range(c) :\n",
    "            for k_r in range(j_r,r) :\n",
    "                for k_c in range(j_c,c) :\n",
    "                    print (\"(\",j_r,j_c,\")\",\"(\",k_r,k_c,\")\")\n",
    "                    aa = v_f[j_r:k_r+1][j_c:k_c+1]\n",
    "                    print (aa)\n",
    "                    bb=[y for x in aa for y in x]\n",
    "                    if (max(bb)-min(bb))<=k :\n",
    "                        anum=(k_r-j_r+1)*(k_r-j_r+1)\n",
    "                        if anum >= num :\n",
    "                            num=anum\n",
    "                        \n",
    "                        \n",
    "            \n",
    "            \n",
    "    print (\"Case #\",i+1,\": \",num)                 \n",
    "                    \n",
    "\n"
   ]
  },
  {
   "cell_type": "code",
   "execution_count": null,
   "metadata": {},
   "outputs": [],
   "source": []
  }
 ],
 "metadata": {
  "kernelspec": {
   "display_name": "Python 3",
   "language": "python",
   "name": "python3"
  },
  "language_info": {
   "codemirror_mode": {
    "name": "ipython",
    "version": 3
   },
   "file_extension": ".py",
   "mimetype": "text/x-python",
   "name": "python",
   "nbconvert_exporter": "python",
   "pygments_lexer": "ipython3",
   "version": "3.6.8"
  }
 },
 "nbformat": 4,
 "nbformat_minor": 2
}
